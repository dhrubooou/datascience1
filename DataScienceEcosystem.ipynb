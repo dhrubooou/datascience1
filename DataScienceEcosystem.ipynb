{
  "metadata": {
    "kernelspec": {
      "name": "python",
      "display_name": "Python (Pyodide)",
      "language": "python"
    },
    "language_info": {
      "codemirror_mode": {
        "name": "python",
        "version": 3
      },
      "file_extension": ".py",
      "mimetype": "text/x-python",
      "name": "python",
      "nbconvert_exporter": "python",
      "pygments_lexer": "ipython3",
      "version": "3.8"
    }
  },
  "nbformat_minor": 4,
  "nbformat": 4,
  "cells": [
    {
      "cell_type": "markdown",
      "source": "# Data Science Tools and Ecosystem\n",
      "metadata": {}
    },
    {
      "cell_type": "code",
      "source": "",
      "metadata": {
        "trusted": true
      },
      "outputs": [],
      "execution_count": null
    },
    {
      "cell_type": "markdown",
      "source": "## Introduction In this notebook, Data Science Tools and Ecosystem are summarized.",
      "metadata": {}
    },
    {
      "cell_type": "markdown",
      "source": "## Some of the commonly used languages used by Data Scientists include:\n1. Python\n2. R\n3. Julia\n4. Scala\n5. MATLAB\n",
      "metadata": {}
    },
    {
      "cell_type": "markdown",
      "source": "## Data Science Libraries\n- NumPy\n- pandas\n- Matplotlib\n- Seaborn\n- Scikit-learn\n- TensorFlow\n- Keras\n",
      "metadata": {}
    },
    {
      "cell_type": "markdown",
      "source": "## Data Science Tools\n| Tool           | Description                             |\n|----------------|-----------------------------------------|\n| Jupyter Notebook | Interactive computing environment     |\n| RStudio        | Integrated development environment for R |\n| Apache Spark   | Distributed computing framework         |\n| TensorFlow     | Open-source machine learning framework |\n| Tableau        | Data visualization tool                 |\n",
      "metadata": {}
    },
    {
      "cell_type": "markdown",
      "source": "## Arithmetic Expression Examples\nLet's explore some basic arithmetic expressions using Python.\n",
      "metadata": {}
    },
    {
      "cell_type": "code",
      "source": "# Multiply and Add Numbers\na = 5\nb = 3\nmultiply_result = a * b\nadd_result = a + b\nprint(\"Multiplication result:\", multiply_result)\nprint(\"Addition result:\", add_result)\n",
      "metadata": {
        "trusted": true
      },
      "outputs": [
        {
          "name": "stdout",
          "text": "Multiplication result: 15\nAddition result: 8\n",
          "output_type": "stream"
        }
      ],
      "execution_count": 2
    },
    {
      "cell_type": "code",
      "source": "# Convert Minutes to Hours\nminutes = 120\nhours = minutes / 60\nprint(\"120 minutes is equal to\", hours, \"hours\")\n",
      "metadata": {
        "trusted": true
      },
      "outputs": [
        {
          "name": "stdout",
          "text": "120 minutes is equal to 2.0 hours\n",
          "output_type": "stream"
        }
      ],
      "execution_count": 3
    },
    {
      "cell_type": "markdown",
      "source": "## Objectives\n- Introduce basic concepts of data science\n- Explore common data science languages and libraries\n- Demonstrate basic arithmetic operations using Python\n",
      "metadata": {}
    },
    {
      "cell_type": "markdown",
      "source": "## Author\nDhrubojyoti Bhattacharjee\n",
      "metadata": {}
    },
    {
      "cell_type": "code",
      "source": "",
      "metadata": {
        "trusted": true
      },
      "outputs": [],
      "execution_count": null
    },
    {
      "cell_type": "code",
      "source": "",
      "metadata": {
        "trusted": true
      },
      "outputs": [],
      "execution_count": null
    }
  ]
}